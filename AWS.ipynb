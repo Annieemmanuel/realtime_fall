{
 "cells": [
  {
   "cell_type": "code",
   "execution_count": null,
   "id": "f625b3c8",
   "metadata": {},
   "outputs": [],
   "source": [
    "import boto3\n",
    "import os\n",
    "\n",
    "# Set up AWS credentials\n",
    "aws_access_key_id = 'your_access_key_id'\n",
    "aws_secret_access_key = 'your_secret_key'\n",
    "region_name = 'region_name'  \n",
    "\n",
    "# Create an S3 client\n",
    "s3 = boto3.client('s3', aws_access_key_id=aws_access_key_id, aws_secret_access_key=aws_secret_access_key,\n",
    "                  region_name=region_name)\n",
    "\n",
    "# Define the S3 bucket name\n",
    "bucket_name = 'your_bucket_name'\n",
    "\n",
    "# Define the local directory path where your images are located\n",
    "local_directory = '/path/to/local/directory/'\n",
    "\n",
    "# Loop through the files in the local directory\n",
    "for filename in os.listdir(local_directory):\n",
    "    # Construct the full local file path\n",
    "    local_file_path = os.path.join(local_directory, filename)\n",
    "\n",
    "    # Upload the file to S3\n",
    "    s3.upload_file(local_file_path, bucket_name, filename)\n",
    "\n",
    "    print(f'Successfully uploaded {filename} to S3 bucket.')\n",
    "\n"
   ]
  }
 ],
 "metadata": {
  "kernelspec": {
   "display_name": "Python 3 (ipykernel)",
   "language": "python",
   "name": "python3"
  },
  "language_info": {
   "codemirror_mode": {
    "name": "ipython",
    "version": 3
   },
   "file_extension": ".py",
   "mimetype": "text/x-python",
   "name": "python",
   "nbconvert_exporter": "python",
   "pygments_lexer": "ipython3",
   "version": "3.9.13"
  }
 },
 "nbformat": 4,
 "nbformat_minor": 5
}
